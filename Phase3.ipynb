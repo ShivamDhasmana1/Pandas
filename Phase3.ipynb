{
 "cells": [
  {
   "cell_type": "markdown",
   "id": "5105ebae",
   "metadata": {},
   "source": [
    "# Preview Data using pandas"
   ]
  },
  {
   "cell_type": "code",
   "execution_count": 1,
   "id": "06219707",
   "metadata": {},
   "outputs": [],
   "source": [
    "import pandas as pd"
   ]
  },
  {
   "cell_type": "markdown",
   "id": "dcae1f48",
   "metadata": {},
   "source": [
    "### Why do we need to preview Data"
   ]
  },
  {
   "cell_type": "markdown",
   "id": "08cb9138",
   "metadata": {},
   "source": [
    "1. Understand the Data set\n",
    "2. Identify the problems\n",
    "3. Plan next steps"
   ]
  },
  {
   "cell_type": "markdown",
   "id": "83e13420",
   "metadata": {},
   "source": [
    "### Head() and Tail()"
   ]
  },
  {
   "cell_type": "code",
   "execution_count": 2,
   "id": "07f7d4aa",
   "metadata": {},
   "outputs": [],
   "source": [
    "df = pd.read_json(\"sample_Data.json\")"
   ]
  },
  {
   "cell_type": "markdown",
   "id": "11e13822",
   "metadata": {},
   "source": [
    "#### 1. Head() : Displays the first n rows (If n not passed, then first 5 rows will be shown)."
   ]
  },
  {
   "cell_type": "code",
   "execution_count": 3,
   "id": "6387453b",
   "metadata": {},
   "outputs": [
    {
     "name": "stdout",
     "output_type": "stream",
     "text": [
      "The first 10 Rows are: \n",
      "\n",
      "   id                                         name  \\\n",
      "0   1                              Apple iPhone 12   \n",
      "1   2                           Samsung Galaxy S21   \n",
      "2   3                           Sony PlayStation 5   \n",
      "3   4            LG OLED55CXPUA 55-inch 4K OLED TV   \n",
      "4   5  Bose QuietComfort 35 II Wireless Headphones   \n",
      "5   6                    Fitbit Versa 3 Smartwatch   \n",
      "6   7                       KitchenAid Stand Mixer   \n",
      "7   8           Dyson V11 Absolute Cordless Vacuum   \n",
      "8   9                   Ninja Foodi Smart XL Grill   \n",
      "9  10              Canon EOS Rebel T8i DSLR Camera   \n",
      "\n",
      "                                         description    price  \\\n",
      "0  The Apple iPhone 12 features a 6.1-inch Super ...   999.00   \n",
      "1  The Samsung Galaxy S21 features a 6.2-inch Dyn...   799.00   \n",
      "2  The Sony PlayStation 5 features an AMD Zen 2-b...   499.99   \n",
      "3  The LG OLED55CXPUA 55-inch 4K OLED TV features...  1599.99   \n",
      "4  The Bose QuietComfort 35 II Wireless Headphone...   299.00   \n",
      "5  The Fitbit Versa 3 Smartwatch features a built...   229.95   \n",
      "6  The KitchenAid Stand Mixer features a 5-quart ...   399.99   \n",
      "7  The Dyson V11 Absolute Cordless Vacuum feature...   699.99   \n",
      "8  The Ninja Foodi Smart XL Grill features 6-in-1...   279.99   \n",
      "9  The Canon EOS Rebel T8i DSLR Camera features a...   899.00   \n",
      "\n",
      "          category                                              image  \n",
      "0      Electronics  https://www.apple.com/newsroom/images/product/...  \n",
      "1      Electronics  https://images.samsung.com/is/image/samsung/p6...  \n",
      "2      Electronics  https://www.sony.com/image/44baa604124b770c824...  \n",
      "3      Electronics  https://www.lg.com/us/images/tvs/md07501804/ga...  \n",
      "4      Electronics  https://assets.bose.com/content/dam/Bose_DAM/W...  \n",
      "5      Electronics  https://www.fitbit.com/global/content/dam/fitb...  \n",
      "6   Home & Kitchen  https://www.kitchenaid.com/content/dam/global/...  \n",
      "7  Home Appliances  https://www.dysoncanada.ca/dam/dyson/images/pr...  \n",
      "8   Home & Kitchen  https://www.ninjakitchen.com/medias/Ninja-OP50...  \n",
      "9      Electronics  https://www.canon.com.au/-/media/images/produc...  \n"
     ]
    }
   ],
   "source": [
    "print(\"The first 10 Rows are: \\n\")\n",
    "print(df.head(10))"
   ]
  },
  {
   "cell_type": "markdown",
   "id": "d20613e8",
   "metadata": {},
   "source": [
    "#### 2. Tail() : Displays the last n rows (If n not passed, then last 5 rows will be shown)."
   ]
  },
  {
   "cell_type": "code",
   "execution_count": 4,
   "id": "3830eec2",
   "metadata": {},
   "outputs": [
    {
     "name": "stdout",
     "output_type": "stream",
     "text": [
      "The Last 10 Rows are: \n",
      "\n",
      "    id                                               name  \\\n",
      "10  11                                  Apple AirPods Pro   \n",
      "11  12        Bose QuietComfort 35 II Wireless Headphones   \n",
      "12  13                    Fitbit Charge 4 Fitness Tracker   \n",
      "13  14                              Samsung Galaxy Watch3   \n",
      "14  15  Sony WH-1000XM4 Wireless Noise-Cancelling Head...   \n",
      "15  16          Breville Barista Express Espresso Machine   \n",
      "16  17                        Keurig K-Elite Coffee Maker   \n",
      "17  18                     iRobot Roomba i7+ Robot Vacuum   \n",
      "18  19                   Ninja Foodi Digital Air Fry Oven   \n",
      "19  20                   Cuisinart ICE-70 Ice Cream Maker   \n",
      "\n",
      "                                          description   price        category  \\\n",
      "10  The Apple AirPods Pro feature active noise can...  249.00     Electronics   \n",
      "11  The Bose QuietComfort 35 II Wireless Headphone...  299.00     Electronics   \n",
      "12  The Fitbit Charge 4 Fitness Tracker features G...  129.95     Electronics   \n",
      "13  The Samsung Galaxy Watch3 features a rotating ...  399.99     Electronics   \n",
      "14  The Sony WH-1000XM4 Wireless Noise-Cancelling ...  349.99     Electronics   \n",
      "15  The Breville Barista Express Espresso Machine ...  699.95  Home & Kitchen   \n",
      "16  The Keurig K-Elite Coffee Maker features a str...  169.99  Home & Kitchen   \n",
      "17  The iRobot Roomba i7+ Robot Vacuum features au...  799.99  Home & Kitchen   \n",
      "18  The Ninja Foodi Digital Air Fry Oven features ...  209.99  Home & Kitchen   \n",
      "19  The Cuisinart ICE-70 Ice Cream Maker features ...  139.99  Home & Kitchen   \n",
      "\n",
      "                                                image  \n",
      "10  https://www.apple.com/v/airpods-pro/b/images/m...  \n",
      "11  https://assets.bose.com/content/dam/Bose_DAM/W...  \n",
      "12  https://www.fitbit.com/global/content/dam/fitb...  \n",
      "13  https://images.samsung.com/is/image/samsung/as...  \n",
      "14  https://www.sony.com/image/1cdd6354c4cd21cc4f7...  \n",
      "15  https://www.breville.com/content/dam/breville/...  \n",
      "16  https://www.keurig.com/content/dam/global-ecom...  \n",
      "17  https://store.irobot.com/default/i7-vacuuming-...  \n",
      "18  https://www.ninjakitchen.com/static/img/produc...  \n",
      "19  https://www.cuisinart.com/share/images/product...  \n"
     ]
    }
   ],
   "source": [
    "print(\"The Last 10 Rows are: \\n\")\n",
    "print(df.tail(10))"
   ]
  },
  {
   "cell_type": "markdown",
   "id": "50d54f94",
   "metadata": {},
   "source": [
    "# Info()"
   ]
  },
  {
   "cell_type": "markdown",
   "id": "73ae67fa",
   "metadata": {},
   "source": [
    "It is a method which gives the consise sumary of the dataset\n",
    "##### What it does:\n",
    "1. Number of rows adn columns\n",
    "2. Column name\n",
    "3. Gives the datatype (int64, float64, object, etc)\n",
    "4. non-null counts\n",
    "5. Memory usage of the Dataframe"
   ]
  },
  {
   "cell_type": "code",
   "execution_count": 5,
   "id": "0a716d07",
   "metadata": {},
   "outputs": [],
   "source": [
    "df = pd.read_json(\"sample_Data.json\")"
   ]
  },
  {
   "cell_type": "code",
   "execution_count": 6,
   "id": "db49ae53",
   "metadata": {},
   "outputs": [
    {
     "name": "stdout",
     "output_type": "stream",
     "text": [
      "Displaying the info of the Data set\n",
      "<class 'pandas.core.frame.DataFrame'>\n",
      "RangeIndex: 20 entries, 0 to 19\n",
      "Data columns (total 6 columns):\n",
      " #   Column       Non-Null Count  Dtype  \n",
      "---  ------       --------------  -----  \n",
      " 0   id           20 non-null     int64  \n",
      " 1   name         20 non-null     object \n",
      " 2   description  20 non-null     object \n",
      " 3   price        20 non-null     float64\n",
      " 4   category     20 non-null     object \n",
      " 5   image        20 non-null     object \n",
      "dtypes: float64(1), int64(1), object(4)\n",
      "memory usage: 1.1+ KB\n",
      "\n",
      " None\n"
     ]
    }
   ],
   "source": [
    "print(\"Displaying the info of the Data set\")\n",
    "print(\"\\n\", df.info())"
   ]
  },
  {
   "cell_type": "markdown",
   "id": "9e28732a",
   "metadata": {},
   "source": [
    "# Describe()"
   ]
  },
  {
   "cell_type": "markdown",
   "id": "b3ec1b3e",
   "metadata": {},
   "source": [
    "Describe method in pandas is a very powerfull tool which provides the Sumary of Discriptive Statistics for Numerical Columns in the Dataframe."
   ]
  },
  {
   "cell_type": "code",
   "execution_count": 7,
   "id": "a350def0",
   "metadata": {},
   "outputs": [
    {
     "name": "stdout",
     "output_type": "stream",
     "text": [
      "Data Frame: \n",
      "\n",
      "     Name  Age  Salary  Performance Score\n",
      "0  Shivam   20   50000                 85\n",
      "1     Ram   30   60000                 90\n",
      "2   Shyam   35   70000                 78\n",
      "3   Aditi   55   80000                 92\n",
      "4    Pari   23   90000                 88\n",
      "5     Raj   19   20000                 95\n",
      "6  Simran   37   50000                 80\n",
      "7    Neha   64  300000                 89\n"
     ]
    }
   ],
   "source": [
    "data = {\n",
    "    \"Name\" : ['Shivam' , 'Ram', 'Shyam' , 'Aditi', 'Pari', 'Raj', 'Simran' ,'Neha'] ,\n",
    "    \"Age\" : [20,30,35,55,23,19,37,64] ,\n",
    "    \"Salary\": [50000,60000,70000,80000,90000,20000,50000,300000],\n",
    "    \"Performance Score\":[85,90,78,92,88,95,80,89]\n",
    "}\n",
    "df = pd.DataFrame(data)\n",
    "print(\"Data Frame: \\n\")\n",
    "print(df)"
   ]
  },
  {
   "cell_type": "code",
   "execution_count": 8,
   "id": "91803147",
   "metadata": {},
   "outputs": [
    {
     "name": "stdout",
     "output_type": "stream",
     "text": [
      "discriptive Statistics\n",
      "             Age         Salary  Performance Score\n",
      "count   8.000000       8.000000           8.000000\n",
      "mean   35.375000   90000.000000          87.125000\n",
      "std    16.448513   87505.101892           5.817154\n",
      "min    19.000000   20000.000000          78.000000\n",
      "25%    22.250000   50000.000000          83.750000\n",
      "50%    32.500000   65000.000000          88.500000\n",
      "75%    41.500000   82500.000000          90.500000\n",
      "max    64.000000  300000.000000          95.000000\n"
     ]
    }
   ],
   "source": [
    "print(\"discriptive Statistics\")\n",
    "print(df.describe())"
   ]
  },
  {
   "cell_type": "markdown",
   "id": "5a77ee15",
   "metadata": {},
   "source": [
    "### Explanation of Each Column (Statistic)\n",
    "| Column    | Meaning                        | Description                                        |\n",
    "| --------- | ------------------------------ | -------------------------------------------------- |\n",
    "| **count** | Count                          | Number of non-null (non-NaN) entries in the column |\n",
    "| **mean**  | Mean                           | The arithmetic average value of the column         |\n",
    "| **std**   | Standard Deviation             | Measures how much the data varies from the mean    |\n",
    "| **min**   | Minimum                        | The smallest value in the column                   |\n",
    "| **25%**   | 25th Percentile (Q1)           | 25% of data lies below this value                  |\n",
    "| **50%**   | 50th Percentile (Median or Q2) | Half of the data lies below this value             |\n",
    "| **75%**   | 75th Percentile (Q3)           | 75% of data lies below this value                  |\n",
    "| **max**   | Maximum                        | The largest value in the column                    |\n"
   ]
  }
 ],
 "metadata": {
  "kernelspec": {
   "display_name": ".venv",
   "language": "python",
   "name": "python3"
  },
  "language_info": {
   "codemirror_mode": {
    "name": "ipython",
    "version": 3
   },
   "file_extension": ".py",
   "mimetype": "text/x-python",
   "name": "python",
   "nbconvert_exporter": "python",
   "pygments_lexer": "ipython3",
   "version": "3.13.9"
  }
 },
 "nbformat": 4,
 "nbformat_minor": 5
}
