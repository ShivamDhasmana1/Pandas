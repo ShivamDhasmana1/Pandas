{
 "cells": [
  {
   "cell_type": "markdown",
   "id": "1afb3444",
   "metadata": {},
   "source": [
    "# Selecting Columns and filtering rows"
   ]
  },
  {
   "cell_type": "code",
   "execution_count": 1,
   "id": "4a0a8ffd",
   "metadata": {},
   "outputs": [],
   "source": [
    "import pandas as pd"
   ]
  },
  {
   "cell_type": "code",
   "execution_count": 2,
   "id": "edf9f8e4",
   "metadata": {},
   "outputs": [
    {
     "name": "stdout",
     "output_type": "stream",
     "text": [
      " Sample Data Frame: \n",
      "\n",
      "     Name  Age  Salary  Performance Score\n",
      "0  Shivam   20   50000                 85\n",
      "1     Ram   30   60000                 90\n",
      "2   Shyam   35   70000                 78\n",
      "3   Aditi   55   80000                 92\n",
      "4    Pari   23   90000                 88\n",
      "5     Raj   19   20000                 95\n",
      "6  Simran   37   50000                 80\n",
      "7    Neha   64  300000                 89\n"
     ]
    }
   ],
   "source": [
    "data = {\n",
    "    \"Name\" : ['Shivam' , 'Ram', 'Shyam' , 'Aditi', 'Pari', 'Raj', 'Simran' ,'Neha'] ,\n",
    "    \"Age\" : [20,30,35,55,23,19,37,64] ,\n",
    "    \"Salary\": [50000,60000,70000,80000,90000,20000,50000,300000],\n",
    "    \"Performance Score\":[85,90,78,92,88,95,80,89]\n",
    "}\n",
    "df = pd.DataFrame(data)\n",
    "print(\" Sample Data Frame: \\n\")\n",
    "print(df)"
   ]
  },
  {
   "cell_type": "markdown",
   "id": "3b064a0f",
   "metadata": {},
   "source": [
    "# Selecting Column"
   ]
  },
  {
   "cell_type": "markdown",
   "id": "e457dd85",
   "metadata": {},
   "source": [
    "### Selecting single column"
   ]
  },
  {
   "cell_type": "code",
   "execution_count": 3,
   "id": "c46d21e1",
   "metadata": {},
   "outputs": [
    {
     "name": "stdout",
     "output_type": "stream",
     "text": [
      "Names (Single column return series)\n",
      "0    Shivam\n",
      "1       Ram\n",
      "2     Shyam\n",
      "3     Aditi\n",
      "4      Pari\n",
      "5       Raj\n",
      "6    Simran\n",
      "7      Neha\n",
      "Name: Name, dtype: object\n"
     ]
    }
   ],
   "source": [
    "print(\"Names (Single column return series)\")\n",
    "name = df['Name']\n",
    "print(name)"
   ]
  },
  {
   "cell_type": "markdown",
   "id": "fc5f0deb",
   "metadata": {},
   "source": [
    "### Selecting multiple columns"
   ]
  },
  {
   "cell_type": "code",
   "execution_count": 4,
   "id": "d2eb99c9",
   "metadata": {},
   "outputs": [
    {
     "name": "stdout",
     "output_type": "stream",
     "text": [
      "\n",
      " Subset with name and salary\n",
      "\n",
      "      Name  Salary\n",
      "0  Shivam   50000\n",
      "1     Ram   60000\n",
      "2   Shyam   70000\n",
      "3   Aditi   80000\n",
      "4    Pari   90000\n",
      "5     Raj   20000\n",
      "6  Simran   50000\n",
      "7    Neha  300000\n"
     ]
    }
   ],
   "source": [
    "subset = df[['Name' , 'Salary']]\n",
    "print(\"\\n Subset with name and salary\")\n",
    "print(\"\\n\",subset)"
   ]
  },
  {
   "cell_type": "markdown",
   "id": "94cf77aa",
   "metadata": {},
   "source": [
    "# Filtering Rows"
   ]
  },
  {
   "cell_type": "markdown",
   "id": "955b1376",
   "metadata": {},
   "source": [
    "#### Filtering rows through single condition:"
   ]
  },
  {
   "cell_type": "code",
   "execution_count": 5,
   "id": "35bb26a0",
   "metadata": {},
   "outputs": [
    {
     "name": "stdout",
     "output_type": "stream",
     "text": [
      "Employee with Salary greater than 60,000: \n",
      "\n",
      "    Name  Age  Salary  Performance Score\n",
      "2  Shyam   35   70000                 78\n",
      "3  Aditi   55   80000                 92\n",
      "4   Pari   23   90000                 88\n",
      "7   Neha   64  300000                 89\n"
     ]
    }
   ],
   "source": [
    "high_salary = df[df['Salary'] > 60000]\n",
    "print(\"Employee with Salary greater than 60,000: \\n\")\n",
    "print(high_salary)"
   ]
  },
  {
   "cell_type": "markdown",
   "id": "530e28d6",
   "metadata": {},
   "source": [
    "#### filtering rows through multiple conditions:"
   ]
  },
  {
   "cell_type": "markdown",
   "id": "11ee147c",
   "metadata": {},
   "source": [
    "Using & (AND) Condition"
   ]
  },
  {
   "cell_type": "code",
   "execution_count": 6,
   "id": "39d477fa",
   "metadata": {},
   "outputs": [
    {
     "name": "stdout",
     "output_type": "stream",
     "text": [
      "Employee with Salary greater than 60,000 and age above 30: \n",
      "\n",
      "    Name  Age  Salary  Performance Score\n",
      "2  Shyam   35   70000                 78\n",
      "3  Aditi   55   80000                 92\n",
      "7   Neha   64  300000                 89\n"
     ]
    }
   ],
   "source": [
    "filtered = df[(df['Age'] > 30) & (df['Salary'] > 60000)]\n",
    "print(\"Employee with Salary greater than 60,000 and age above 30: \\n\")\n",
    "print(filtered)"
   ]
  },
  {
   "cell_type": "markdown",
   "id": "9d71e1f9",
   "metadata": {},
   "source": [
    "Using OR condition"
   ]
  },
  {
   "cell_type": "code",
   "execution_count": 7,
   "id": "8d3faa23",
   "metadata": {},
   "outputs": [
    {
     "name": "stdout",
     "output_type": "stream",
     "text": [
      "     Name  Age  Salary  Performance Score\n",
      "2   Shyam   35   70000                 78\n",
      "3   Aditi   55   80000                 92\n",
      "5     Raj   19   20000                 95\n",
      "6  Simran   37   50000                 80\n",
      "7    Neha   64  300000                 89\n"
     ]
    }
   ],
   "source": [
    "filtered_or = df[(df['Age'] > 30) | (df['Performance Score'] > 90)]\n",
    "print(filtered_or)"
   ]
  }
 ],
 "metadata": {
  "kernelspec": {
   "display_name": ".venv",
   "language": "python",
   "name": "python3"
  },
  "language_info": {
   "codemirror_mode": {
    "name": "ipython",
    "version": 3
   },
   "file_extension": ".py",
   "mimetype": "text/x-python",
   "name": "python",
   "nbconvert_exporter": "python",
   "pygments_lexer": "ipython3",
   "version": "3.13.9"
  }
 },
 "nbformat": 4,
 "nbformat_minor": 5
}
