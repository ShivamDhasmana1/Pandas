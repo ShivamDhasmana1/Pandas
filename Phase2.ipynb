{
 "cells": [
  {
   "cell_type": "markdown",
   "id": "a6939107",
   "metadata": {},
   "source": [
    "# Saving data in pandas"
   ]
  },
  {
   "cell_type": "code",
   "execution_count": 2,
   "id": "d51c92ae",
   "metadata": {},
   "outputs": [],
   "source": [
    "import pandas as pd"
   ]
  },
  {
   "cell_type": "code",
   "execution_count": 3,
   "id": "188d3571",
   "metadata": {},
   "outputs": [],
   "source": [
    "data = {\n",
    "    \"Name\" : ['Shivam' , 'Ram', 'Shyam'] ,\n",
    "    \"Age\" : [20,30,35] ,\n",
    "    \"City\" : ['Ghaziabad' , 'Mumbai' , 'Delhi']\n",
    "}"
   ]
  },
  {
   "cell_type": "markdown",
   "id": "5d8b69e3",
   "metadata": {},
   "source": [
    "Creating DataFrame"
   ]
  },
  {
   "cell_type": "code",
   "execution_count": 6,
   "id": "2049279b",
   "metadata": {},
   "outputs": [
    {
     "name": "stdout",
     "output_type": "stream",
     "text": [
      "     Name  Age       City\n",
      "0  Shivam   20  Ghaziabad\n",
      "1     Ram   30     Mumbai\n",
      "2   Shyam   35      Delhi\n"
     ]
    }
   ],
   "source": [
    "df = pd.DataFrame(data)\n",
    "print(df)"
   ]
  },
  {
   "cell_type": "markdown",
   "id": "8147bcdc",
   "metadata": {},
   "source": [
    "Converting DataFrame to CSV file"
   ]
  },
  {
   "cell_type": "code",
   "execution_count": 8,
   "id": "4add1568",
   "metadata": {},
   "outputs": [],
   "source": [
    "df.to_csv(\"Output.csv\" , index=False)"
   ]
  },
  {
   "cell_type": "markdown",
   "id": "59bfde3f",
   "metadata": {},
   "source": [
    "Converting DataFrame to Excel file"
   ]
  },
  {
   "cell_type": "code",
   "execution_count": null,
   "id": "82de7bd4",
   "metadata": {},
   "outputs": [],
   "source": [
    "df.to_excel(\"Output.xlsx\" , index=False)"
   ]
  },
  {
   "cell_type": "markdown",
   "id": "4ed78780",
   "metadata": {},
   "source": [
    "Converting DataFrame to JSON file"
   ]
  },
  {
   "cell_type": "code",
   "execution_count": 12,
   "id": "9b140d8a",
   "metadata": {},
   "outputs": [],
   "source": [
    "df.to_json(\"Output.json\" , index=False)"
   ]
  }
 ],
 "metadata": {
  "kernelspec": {
   "display_name": ".venv",
   "language": "python",
   "name": "python3"
  },
  "language_info": {
   "codemirror_mode": {
    "name": "ipython",
    "version": 3
   },
   "file_extension": ".py",
   "mimetype": "text/x-python",
   "name": "python",
   "nbconvert_exporter": "python",
   "pygments_lexer": "ipython3",
   "version": "3.13.9"
  }
 },
 "nbformat": 4,
 "nbformat_minor": 5
}
