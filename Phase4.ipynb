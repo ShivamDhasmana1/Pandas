{
 "cells": [
  {
   "cell_type": "markdown",
   "id": "3f02520a",
   "metadata": {},
   "source": [
    "# Shape and Columns"
   ]
  },
  {
   "cell_type": "code",
   "execution_count": 1,
   "id": "d8c2d1ec",
   "metadata": {},
   "outputs": [],
   "source": [
    "import pandas as pd"
   ]
  },
  {
   "cell_type": "code",
   "execution_count": 2,
   "id": "d87d2dd2",
   "metadata": {},
   "outputs": [
    {
     "name": "stdout",
     "output_type": "stream",
     "text": [
      "Data Frame: \n",
      "\n",
      "     Name  Age  Salary  Performance Score\n",
      "0  Shivam   20   50000                 85\n",
      "1     Ram   30   60000                 90\n",
      "2   Shyam   35   70000                 78\n",
      "3   Aditi   55   80000                 92\n",
      "4    Pari   23   90000                 88\n",
      "5     Raj   19   20000                 95\n",
      "6  Simran   37   50000                 80\n",
      "7    Neha   64  300000                 89\n"
     ]
    }
   ],
   "source": [
    "data = {\n",
    "    \"Name\" : ['Shivam' , 'Ram', 'Shyam' , 'Aditi', 'Pari', 'Raj', 'Simran' ,'Neha'] ,\n",
    "    \"Age\" : [20,30,35,55,23,19,37,64] ,\n",
    "    \"Salary\": [50000,60000,70000,80000,90000,20000,50000,300000],\n",
    "    \"Performance Score\":[85,90,78,92,88,95,80,89]\n",
    "}\n",
    "df = pd.DataFrame(data)\n",
    "print(\"Data Frame: \\n\")\n",
    "print(df)"
   ]
  },
  {
   "cell_type": "code",
   "execution_count": 5,
   "id": "25c10dfe",
   "metadata": {},
   "outputs": [
    {
     "name": "stdout",
     "output_type": "stream",
     "text": [
      "Shape: (8, 4)\n",
      "Columns: Index(['Name', 'Age', 'Salary', 'Performance Score'], dtype='object')\n"
     ]
    }
   ],
   "source": [
    "print(f\"Shape: {df.shape}\")\n",
    "print(f\"Columns: {df.columns}\")"
   ]
  },
  {
   "cell_type": "code",
   "execution_count": null,
   "id": "6aeff01e",
   "metadata": {},
   "outputs": [],
   "source": []
  }
 ],
 "metadata": {
  "kernelspec": {
   "display_name": ".venv",
   "language": "python",
   "name": "python3"
  },
  "language_info": {
   "codemirror_mode": {
    "name": "ipython",
    "version": 3
   },
   "file_extension": ".py",
   "mimetype": "text/x-python",
   "name": "python",
   "nbconvert_exporter": "python",
   "pygments_lexer": "ipython3",
   "version": "3.13.9"
  }
 },
 "nbformat": 4,
 "nbformat_minor": 5
}
